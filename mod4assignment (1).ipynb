{
  "metadata": {
    "kernelspec": {
      "name": "python",
      "display_name": "Pyolite",
      "language": "python"
    },
    "language_info": {
      "codemirror_mode": {
        "name": "python",
        "version": 3
      },
      "file_extension": ".py",
      "mimetype": "text/x-python",
      "name": "python",
      "nbconvert_exporter": "python",
      "pygments_lexer": "ipython3",
      "version": "3.8"
    },
    "toc-showmarkdowntxt": true,
    "toc-autonumbering": false,
    "toc-showcode": true
  },
  "nbformat_minor": 4,
  "nbformat": 4,
  "cells": [
    {
      "cell_type": "markdown",
      "source": "# My Jupyter Notebook on IBM Watson Studio",
      "metadata": {
        "tags": [],
        "trusted": true
      }
    },
    {
      "cell_type": "markdown",
      "source": "**Anthony White**\n\nData Scientist",
      "metadata": {
        "trusted": true
      }
    },
    {
      "cell_type": "markdown",
      "source": "*I am interested in data science because there is a tremendous need for this skill. I beleive it will help me further my carrer.*",
      "metadata": {
        "trusted": true
      }
    },
    {
      "cell_type": "markdown",
      "source": "### My code should complete the math equation and output should be rendered",
      "metadata": {
        "trusted": true
      }
    },
    {
      "cell_type": "code",
      "source": "5*2",
      "metadata": {
        "trusted": true
      },
      "execution_count": 3,
      "outputs": [
        {
          "execution_count": 3,
          "output_type": "execute_result",
          "data": {
            "text/plain": "10"
          },
          "metadata": {}
        }
      ]
    },
    {
      "cell_type": "markdown",
      "source": "~~1.one\n",
      "metadata": {
        "trusted": true
      }
    },
    {
      "cell_type": "markdown",
      "source": "[espn sports](https://www.espn.com)",
      "metadata": {
        "trusted": true
      }
    },
    {
      "cell_type": "markdown",
      "source": "> When you reach the end of your rope, tie a knot in it and hang on. -Franklin D. Roosevelt",
      "metadata": {
        "trusted": true
      }
    }
  ]
}